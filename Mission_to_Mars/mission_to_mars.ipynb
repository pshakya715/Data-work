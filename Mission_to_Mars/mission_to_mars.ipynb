{
 "cells": [
  {
   "cell_type": "code",
   "execution_count": 24,
   "metadata": {},
   "outputs": [],
   "source": [
    "from splinter import Browser\n",
    "from splinter.exceptions import ElementDoesNotExist\n",
    "from bs4 import BeautifulSoup\n",
    "import pandas as pd\n",
    "from pprint import pprint"
   ]
  },
  {
   "cell_type": "code",
   "execution_count": 25,
   "metadata": {},
   "outputs": [],
   "source": [
    "executable_path = {'executable_path': 'chromedriver.exe'}\n",
    "browser = Browser('chrome', **executable_path, headless=False)"
   ]
  },
  {
   "cell_type": "markdown",
   "metadata": {},
   "source": [
    "# NASA Mars News"
   ]
  },
  {
   "cell_type": "code",
   "execution_count": 3,
   "metadata": {},
   "outputs": [],
   "source": [
    "url = 'https://mars.nasa.gov/news/'\n",
    "browser.visit(url)"
   ]
  },
  {
   "cell_type": "code",
   "execution_count": 4,
   "metadata": {},
   "outputs": [],
   "source": [
    "html = browser.html\n",
    "title_soup = BeautifulSoup(html, 'html.parser')"
   ]
  },
  {
   "cell_type": "code",
   "execution_count": 5,
   "metadata": {},
   "outputs": [
    {
     "data": {
      "text/plain": [
       "\"Deadline Closing for Names to Fly on NASA's Next Mars Rover\""
      ]
     },
     "execution_count": 5,
     "metadata": {},
     "output_type": "execute_result"
    }
   ],
   "source": [
    "news_title = title_soup.find(\"div\", class_= \"content_title\").text\n",
    "news_title"
   ]
  },
  {
   "cell_type": "code",
   "execution_count": 6,
   "metadata": {},
   "outputs": [
    {
     "data": {
      "text/plain": [
       "'You have until Sept. 30 to send your names to Mars aboard the Mars 2020 rover. '"
      ]
     },
     "execution_count": 6,
     "metadata": {},
     "output_type": "execute_result"
    }
   ],
   "source": [
    "news_p = title_soup.find(\"div\", class_=\"article_teaser_body\").text\n",
    "news_p"
   ]
  },
  {
   "cell_type": "markdown",
   "metadata": {},
   "source": [
    "# JPL Mars Space Images - Featured Image"
   ]
  },
  {
   "cell_type": "code",
   "execution_count": 7,
   "metadata": {},
   "outputs": [],
   "source": [
    "image_url = 'https://www.jpl.nasa.gov/spaceimages/?search=&category=Mars'\n",
    "browser.visit(image_url)\n",
    "html=browser.html\n",
    "img_soup=BeautifulSoup(html, \"html.parser\")"
   ]
  },
  {
   "cell_type": "code",
   "execution_count": 8,
   "metadata": {},
   "outputs": [
    {
     "name": "stdout",
     "output_type": "stream",
     "text": [
      "https://www.jpl.nasa.gov/spaceimages/images/wallpaper/PIA23479-640x350.jpg\n"
     ]
    }
   ],
   "source": [
    "image=img_soup.find(\"img\", class_=\"thumb\")[\"src\"]\n",
    "featured_image_url = \"https://www.jpl.nasa.gov\" + image\n",
    "print(featured_image_url)"
   ]
  },
  {
   "cell_type": "markdown",
   "metadata": {},
   "source": [
    "# Mars Weather"
   ]
  },
  {
   "cell_type": "code",
   "execution_count": 9,
   "metadata": {},
   "outputs": [
    {
     "data": {
      "text/plain": [
       "<div class=\"tweet js-stream-tweet js-actionable-tweet js-profile-popup-actionable dismissible-content original-tweet js-original-tweet has-cards has-content\" data-conversation-id=\"1175210853861351425\" data-disclosure-type=\"\" data-follows-you=\"false\" data-has-cards=\"true\" data-item-id=\"1175210853861351425\" data-name=\"Mars Weather\" data-permalink-path=\"/MarsWxReport/status/1175210853861351425\" data-reply-to-users-json='[{\"id_str\":\"786939553\",\"screen_name\":\"MarsWxReport\",\"name\":\"Mars Weather\",\"emojified_name\":{\"text\":\"Mars Weather\",\"emojified_text_as_html\":\"Mars Weather\"}}]' data-screen-name=\"MarsWxReport\" data-tweet-id=\"1175210853861351425\" data-tweet-nonce=\"1175210853861351425-d6938ef8-b5d4-4294-8d40-d54ede5c81b5\" data-tweet-stat-initialized=\"true\" data-user-id=\"786939553\" data-you-block=\"false\" data-you-follow=\"false\">\n",
       "<div class=\"context\">\n",
       "</div>\n",
       "<div class=\"content\">\n",
       "<div class=\"stream-item-header\">\n",
       "<a class=\"account-group js-account-group js-action-profile js-user-profile-link js-nav\" data-user-id=\"786939553\" href=\"/MarsWxReport\">\n",
       "<img alt=\"\" class=\"avatar js-action-profile-avatar\" src=\"https://pbs.twimg.com/profile_images/2552209293/220px-Mars_atmosphere_bigger.jpg\"/>\n",
       "<span class=\"FullNameGroup\">\n",
       "<strong class=\"fullname show-popup-with-id u-textTruncate\" data-aria-label-part=\"\">Mars Weather</strong><span>‏</span><span class=\"UserBadges\"></span><span class=\"UserNameBreak\"> </span></span><span class=\"username u-dir u-textTruncate\" data-aria-label-part=\"\" dir=\"ltr\">@<b>MarsWxReport</b></span></a>\n",
       "<small class=\"time\">\n",
       "<a class=\"tweet-timestamp js-permalink js-nav js-tooltip\" data-conversation-id=\"1175210853861351425\" href=\"/MarsWxReport/status/1175210853861351425\" title=\"5:51 PM - 20 Sep 2019\"><span aria-hidden=\"true\" class=\"_timestamp js-short-timestamp js-relative-timestamp\" data-long-form=\"true\" data-time=\"1569027076\" data-time-ms=\"1569027076000\">1h</span><span class=\"u-hiddenVisually\" data-aria-label-part=\"last\">1 hour ago</span></a>\n",
       "</small>\n",
       "<div class=\"ProfileTweet-action ProfileTweet-action--more js-more-ProfileTweet-actions\">\n",
       "<div class=\"dropdown\">\n",
       "<button class=\"ProfileTweet-actionButton u-textUserColorHover dropdown-toggle js-dropdown-toggle\" type=\"button\">\n",
       "<div class=\"IconContainer js-tooltip\" title=\"More\">\n",
       "<span class=\"Icon Icon--caretDownLight Icon--small\"></span>\n",
       "<span class=\"u-hiddenVisually\">More</span>\n",
       "</div>\n",
       "</button>\n",
       "<div class=\"dropdown-menu is-autoCentered\">\n",
       "<div class=\"dropdown-caret\">\n",
       "<div class=\"caret-outer\"></div>\n",
       "<div class=\"caret-inner\"></div>\n",
       "</div>\n",
       "<ul>\n",
       "<li class=\"copy-link-to-tweet js-actionCopyLinkToTweet\">\n",
       "<button class=\"dropdown-link\" type=\"button\">Copy link to Tweet</button>\n",
       "</li>\n",
       "<li class=\"embed-link js-actionEmbedTweet\" data-nav=\"embed_tweet\">\n",
       "<button class=\"dropdown-link\" type=\"button\">Embed Tweet</button>\n",
       "</li>\n",
       "</ul>\n",
       "</div>\n",
       "</div>\n",
       "</div>\n",
       "</div>\n",
       "<div class=\"js-tweet-text-container\">\n",
       "<p class=\"TweetTextSize TweetTextSize--normal js-tweet-text tweet-text\" data-aria-label-part=\"0\" lang=\"en\">InSight sol 289 (2019-09-19) low -102.8ºC (-153.1ºF) high -27.3ºC (-17.1ºF)\n",
       "winds from the SW at 4.2 m/s (9.5 mph) gusting to 17.4 m/s (38.8 mph)\n",
       "pressure at 7.40 hPa<a class=\"twitter-timeline-link u-hidden\" data-pre-embedded=\"true\" dir=\"ltr\" href=\"https://t.co/QI1RzOOfV7\">pic.twitter.com/QI1RzOOfV7</a></p>\n",
       "</div>\n",
       "<div class=\"AdaptiveMediaOuterContainer\">\n",
       "<div class=\"AdaptiveMedia is-square\">\n",
       "<div class=\"AdaptiveMedia-container\">\n",
       "<div class=\"AdaptiveMedia-singlePhoto\" style=\"padding-top: calc(0.5625 * 100% - 0.5px);\">\n",
       "<div class=\"AdaptiveMedia-photoContainer js-adaptive-photo\" data-dominant-color=\"[51,52,64]\" data-element-context=\"platform_photo_card\" data-image-url=\"https://pbs.twimg.com/media/EE8wCuIXkAI8LMn.jpg\" style=\"background-color:rgba(51,52,64,1.0);\">\n",
       "<img alt=\"\" data-aria-label-part=\"\" src=\"https://pbs.twimg.com/media/EE8wCuIXkAI8LMn.jpg\" style=\"width: 100%; top: -0px;\"/>\n",
       "</div>\n",
       "</div>\n",
       "</div>\n",
       "</div>\n",
       "</div>\n",
       "<div class=\"stream-item-footer\">\n",
       "<div class=\"ProfileTweet-actionCountList u-hiddenVisually\">\n",
       "<span class=\"ProfileTweet-action--reply u-hiddenVisually\">\n",
       "<span aria-hidden=\"true\" class=\"ProfileTweet-actionCount\" data-tweet-stat-count=\"0\">\n",
       "<span class=\"ProfileTweet-actionCountForAria\" id=\"profile-tweet-action-reply-count-aria-1175210853861351425\">0 replies</span>\n",
       "</span>\n",
       "</span>\n",
       "<span class=\"ProfileTweet-action--retweet u-hiddenVisually\">\n",
       "<span class=\"ProfileTweet-actionCount\" data-tweet-stat-count=\"6\">\n",
       "<span class=\"ProfileTweet-actionCountForAria\" data-aria-label-part=\"\" id=\"profile-tweet-action-retweet-count-aria-1175210853861351425\">6 retweets</span>\n",
       "</span>\n",
       "</span>\n",
       "<span class=\"ProfileTweet-action--favorite u-hiddenVisually\">\n",
       "<span class=\"ProfileTweet-actionCount\" data-tweet-stat-count=\"9\">\n",
       "<span class=\"ProfileTweet-actionCountForAria\" data-aria-label-part=\"\" id=\"profile-tweet-action-favorite-count-aria-1175210853861351425\">9 likes</span>\n",
       "</span>\n",
       "</span>\n",
       "</div>\n",
       "<div aria-label=\"Tweet actions\" class=\"ProfileTweet-actionList js-actions\" role=\"group\">\n",
       "<div class=\"ProfileTweet-action ProfileTweet-action--reply\">\n",
       "<button aria-describedby=\"profile-tweet-action-reply-count-aria-1175210853861351425\" class=\"ProfileTweet-actionButton js-actionButton js-actionReply\" data-modal=\"ProfileTweet-reply\" type=\"button\">\n",
       "<div class=\"IconContainer js-tooltip\" title=\"Reply\">\n",
       "<span class=\"Icon Icon--medium Icon--reply\"></span>\n",
       "<span class=\"u-hiddenVisually\">Reply</span>\n",
       "</div>\n",
       "<span class=\"ProfileTweet-actionCount ProfileTweet-actionCount--isZero\">\n",
       "<span aria-hidden=\"true\" class=\"ProfileTweet-actionCountForPresentation\"></span>\n",
       "</span>\n",
       "</button>\n",
       "</div>\n",
       "<div class=\"ProfileTweet-action ProfileTweet-action--retweet js-toggleState js-toggleRt\">\n",
       "<button aria-describedby=\"profile-tweet-action-retweet-count-aria-1175210853861351425\" class=\"ProfileTweet-actionButton js-actionButton js-actionRetweet\" data-modal=\"ProfileTweet-retweet\" type=\"button\">\n",
       "<div class=\"IconContainer js-tooltip\" title=\"Retweet\">\n",
       "<span class=\"Icon Icon--medium Icon--retweet\"></span>\n",
       "<span class=\"u-hiddenVisually\">Retweet</span>\n",
       "</div>\n",
       "<span class=\"ProfileTweet-actionCount\">\n",
       "<span aria-hidden=\"true\" class=\"ProfileTweet-actionCountForPresentation\">6</span>\n",
       "</span>\n",
       "</button><button class=\"ProfileTweet-actionButtonUndo js-actionButton js-actionRetweet\" data-modal=\"ProfileTweet-retweet\" type=\"button\">\n",
       "<div class=\"IconContainer js-tooltip\" title=\"Undo retweet\">\n",
       "<span class=\"Icon Icon--medium Icon--retweet\"></span>\n",
       "<span class=\"u-hiddenVisually\">Retweeted</span>\n",
       "</div>\n",
       "<span class=\"ProfileTweet-actionCount\">\n",
       "<span aria-hidden=\"true\" class=\"ProfileTweet-actionCountForPresentation\">6</span>\n",
       "</span>\n",
       "</button>\n",
       "</div>\n",
       "<div class=\"ProfileTweet-action ProfileTweet-action--favorite js-toggleState\">\n",
       "<button aria-describedby=\"profile-tweet-action-favorite-count-aria-1175210853861351425\" class=\"ProfileTweet-actionButton js-actionButton js-actionFavorite\" type=\"button\">\n",
       "<div class=\"IconContainer js-tooltip\" title=\"Like\">\n",
       "<span class=\"Icon Icon--heart Icon--medium\" role=\"presentation\"></span>\n",
       "<div class=\"HeartAnimation\"></div>\n",
       "<span class=\"u-hiddenVisually\">Like</span>\n",
       "</div>\n",
       "<span class=\"ProfileTweet-actionCount\">\n",
       "<span aria-hidden=\"true\" class=\"ProfileTweet-actionCountForPresentation\">9</span>\n",
       "</span>\n",
       "</button><button class=\"ProfileTweet-actionButtonUndo ProfileTweet-action--unfavorite u-linkClean js-actionButton js-actionFavorite\" type=\"button\">\n",
       "<div class=\"IconContainer js-tooltip\" title=\"Undo like\">\n",
       "<span class=\"Icon Icon--heart Icon--medium\" role=\"presentation\"></span>\n",
       "<div class=\"HeartAnimation\"></div>\n",
       "<span class=\"u-hiddenVisually\">Liked</span>\n",
       "</div>\n",
       "<span class=\"ProfileTweet-actionCount\">\n",
       "<span aria-hidden=\"true\" class=\"ProfileTweet-actionCountForPresentation\">9</span>\n",
       "</span>\n",
       "</button>\n",
       "</div>\n",
       "</div>\n",
       "</div>\n",
       "</div>\n",
       "</div>"
      ]
     },
     "execution_count": 9,
     "metadata": {},
     "output_type": "execute_result"
    }
   ],
   "source": [
    "# Scrape the URL of the page\n",
    "weather_url=\"https://twitter.com/marswxreport?lang=en\"\n",
    "browser.visit(weather_url)\n",
    "\n",
    "html = browser.html\n",
    "twitter_soup = BeautifulSoup(html, \"html.parser\")\n",
    "\n",
    "mars_weather = twitter_soup.find('div', attrs={\"class\": \"tweet\", \"data-name\": \"Mars Weather\"})\n",
    "\n",
    "mars_weather"
   ]
  },
  {
   "cell_type": "code",
   "execution_count": 10,
   "metadata": {},
   "outputs": [
    {
     "name": "stdout",
     "output_type": "stream",
     "text": [
      "InSight sol 289 (2019-09-19) low -102.8ºC (-153.1ºF) high -27.3ºC (-17.1ºF)\n",
      "winds from the SW at 4.2 m/s (9.5 mph) gusting to 17.4 m/s (38.8 mph)\n",
      "pressure at 7.40 hPapic.twitter.com/QI1RzOOfV7\n"
     ]
    }
   ],
   "source": [
    "mars_weather_text = mars_weather.find('p', 'tweet-text').text\n",
    "print(mars_weather_text)"
   ]
  },
  {
   "cell_type": "markdown",
   "metadata": {},
   "source": [
    "# Mars Facts"
   ]
  },
  {
   "cell_type": "code",
   "execution_count": 11,
   "metadata": {},
   "outputs": [
    {
     "data": {
      "text/plain": [
       "[  Mars - Earth Comparison             Mars            Earth\n",
       " 0               Diameter:         6,779 km        12,742 km\n",
       " 1                   Mass:  6.39 × 10^23 kg  5.97 × 10^24 kg\n",
       " 2                  Moons:                2                1\n",
       " 3      Distance from Sun:   227,943,824 km   149,598,262 km\n",
       " 4         Length of Year:   687 Earth days      365.24 days\n",
       " 5            Temperature:    -153 to 20 °C      -88 to 58°C,\n",
       "                       0                              1\n",
       " 0  Equatorial Diameter:                       6,792 km\n",
       " 1       Polar Diameter:                       6,752 km\n",
       " 2                 Mass:  6.39 × 10^23 kg (0.11 Earths)\n",
       " 3                Moons:            2 (Phobos & Deimos)\n",
       " 4       Orbit Distance:       227,943,824 km (1.38 AU)\n",
       " 5         Orbit Period:           687 days (1.9 years)\n",
       " 6  Surface Temperature:                   -87 to -5 °C\n",
       " 7         First Record:              2nd millennium BC\n",
       " 8          Recorded By:           Egyptian astronomers]"
      ]
     },
     "execution_count": 11,
     "metadata": {},
     "output_type": "execute_result"
    }
   ],
   "source": [
    "facts_tables = pd.read_html('http://space-facts.com/mars/')\n",
    "facts_tables"
   ]
  },
  {
   "cell_type": "code",
   "execution_count": 12,
   "metadata": {},
   "outputs": [
    {
     "data": {
      "text/html": [
       "<div>\n",
       "<style scoped>\n",
       "    .dataframe tbody tr th:only-of-type {\n",
       "        vertical-align: middle;\n",
       "    }\n",
       "\n",
       "    .dataframe tbody tr th {\n",
       "        vertical-align: top;\n",
       "    }\n",
       "\n",
       "    .dataframe thead th {\n",
       "        text-align: right;\n",
       "    }\n",
       "</style>\n",
       "<table border=\"1\" class=\"dataframe\">\n",
       "  <thead>\n",
       "    <tr style=\"text-align: right;\">\n",
       "      <th></th>\n",
       "      <th>Parameter</th>\n",
       "      <th>Value</th>\n",
       "    </tr>\n",
       "  </thead>\n",
       "  <tbody>\n",
       "    <tr>\n",
       "      <th>0</th>\n",
       "      <td>Equatorial Diameter:</td>\n",
       "      <td>6,792 km</td>\n",
       "    </tr>\n",
       "    <tr>\n",
       "      <th>1</th>\n",
       "      <td>Polar Diameter:</td>\n",
       "      <td>6,752 km</td>\n",
       "    </tr>\n",
       "    <tr>\n",
       "      <th>2</th>\n",
       "      <td>Mass:</td>\n",
       "      <td>6.39 × 10^23 kg (0.11 Earths)</td>\n",
       "    </tr>\n",
       "    <tr>\n",
       "      <th>3</th>\n",
       "      <td>Moons:</td>\n",
       "      <td>2 (Phobos &amp; Deimos)</td>\n",
       "    </tr>\n",
       "    <tr>\n",
       "      <th>4</th>\n",
       "      <td>Orbit Distance:</td>\n",
       "      <td>227,943,824 km (1.38 AU)</td>\n",
       "    </tr>\n",
       "    <tr>\n",
       "      <th>5</th>\n",
       "      <td>Orbit Period:</td>\n",
       "      <td>687 days (1.9 years)</td>\n",
       "    </tr>\n",
       "    <tr>\n",
       "      <th>6</th>\n",
       "      <td>Surface Temperature:</td>\n",
       "      <td>-87 to -5 °C</td>\n",
       "    </tr>\n",
       "    <tr>\n",
       "      <th>7</th>\n",
       "      <td>First Record:</td>\n",
       "      <td>2nd millennium BC</td>\n",
       "    </tr>\n",
       "    <tr>\n",
       "      <th>8</th>\n",
       "      <td>Recorded By:</td>\n",
       "      <td>Egyptian astronomers</td>\n",
       "    </tr>\n",
       "  </tbody>\n",
       "</table>\n",
       "</div>"
      ],
      "text/plain": [
       "              Parameter                          Value\n",
       "0  Equatorial Diameter:                       6,792 km\n",
       "1       Polar Diameter:                       6,752 km\n",
       "2                 Mass:  6.39 × 10^23 kg (0.11 Earths)\n",
       "3                Moons:            2 (Phobos & Deimos)\n",
       "4       Orbit Distance:       227,943,824 km (1.38 AU)\n",
       "5         Orbit Period:           687 days (1.9 years)\n",
       "6  Surface Temperature:                   -87 to -5 °C\n",
       "7         First Record:              2nd millennium BC\n",
       "8          Recorded By:           Egyptian astronomers"
      ]
     },
     "execution_count": 12,
     "metadata": {},
     "output_type": "execute_result"
    }
   ],
   "source": [
    "facts_table_df = facts_tables[1]\n",
    "facts_table_df.columns = ['Parameter','Value']\n",
    "facts_table_df"
   ]
  },
  {
   "cell_type": "code",
   "execution_count": 13,
   "metadata": {},
   "outputs": [
    {
     "data": {
      "text/plain": [
       "'<table border=\"1\" class=\"dataframe\">\\n  <thead>\\n    <tr style=\"text-align: right;\">\\n      <th></th>\\n      <th>Parameter</th>\\n      <th>Value</th>\\n    </tr>\\n  </thead>\\n  <tbody>\\n    <tr>\\n      <th>0</th>\\n      <td>Equatorial Diameter:</td>\\n      <td>6,792 km</td>\\n    </tr>\\n    <tr>\\n      <th>1</th>\\n      <td>Polar Diameter:</td>\\n      <td>6,752 km</td>\\n    </tr>\\n    <tr>\\n      <th>2</th>\\n      <td>Mass:</td>\\n      <td>6.39 × 10^23 kg (0.11 Earths)</td>\\n    </tr>\\n    <tr>\\n      <th>3</th>\\n      <td>Moons:</td>\\n      <td>2 (Phobos &amp; Deimos)</td>\\n    </tr>\\n    <tr>\\n      <th>4</th>\\n      <td>Orbit Distance:</td>\\n      <td>227,943,824 km (1.38 AU)</td>\\n    </tr>\\n    <tr>\\n      <th>5</th>\\n      <td>Orbit Period:</td>\\n      <td>687 days (1.9 years)</td>\\n    </tr>\\n    <tr>\\n      <th>6</th>\\n      <td>Surface Temperature:</td>\\n      <td>-87 to -5 °C</td>\\n    </tr>\\n    <tr>\\n      <th>7</th>\\n      <td>First Record:</td>\\n      <td>2nd millennium BC</td>\\n    </tr>\\n    <tr>\\n      <th>8</th>\\n      <td>Recorded By:</td>\\n      <td>Egyptian astronomers</td>\\n    </tr>\\n  </tbody>\\n</table>'"
      ]
     },
     "execution_count": 13,
     "metadata": {},
     "output_type": "execute_result"
    }
   ],
   "source": [
    "facts_table_df.to_html()"
   ]
  },
  {
   "cell_type": "markdown",
   "metadata": {},
   "source": [
    "# Mars Hemispheres"
   ]
  },
  {
   "cell_type": "code",
   "execution_count": 26,
   "metadata": {},
   "outputs": [],
   "source": [
    "url = 'https://astrogeology.usgs.gov/search/results?q=hemisphere+enhanced&k1=target&v1=Mars'\n",
    "browser.visit(url)\n",
    "html = browser.html\n",
    "soup = BeautifulSoup(html, 'html.parser')"
   ]
  },
  {
   "cell_type": "code",
   "execution_count": 27,
   "metadata": {},
   "outputs": [
    {
     "data": {
      "text/plain": [
       "['Cerberus Hemisphere Enhanced',\n",
       " 'Schiaparelli Hemisphere Enhanced',\n",
       " 'Syrtis Major Hemisphere Enhanced',\n",
       " 'Valles Marineris Hemisphere Enhanced']"
      ]
     },
     "execution_count": 27,
     "metadata": {},
     "output_type": "execute_result"
    }
   ],
   "source": [
    "hemi_strings =[]\n",
    "links = soup.find_all('h3')\n",
    "\n",
    "for hemi in links:\n",
    "    hemi_strings.append(hemi.text)\n",
    "hemi_strings"
   ]
  },
  {
   "cell_type": "code",
   "execution_count": 28,
   "metadata": {},
   "outputs": [
    {
     "name": "stdout",
     "output_type": "stream",
     "text": [
      "[{'img_url': 'http://astropedia.astrogeology.usgs.gov/download/Mars/Viking/cerberus_enhanced.tif/full.jpg',\n",
      "  'title': 'Cerberus Hemisphere Enhanced'}]\n",
      "[{'img_url': 'http://astropedia.astrogeology.usgs.gov/download/Mars/Viking/cerberus_enhanced.tif/full.jpg',\n",
      "  'title': 'Cerberus Hemisphere Enhanced'},\n",
      " {'img_url': 'http://astropedia.astrogeology.usgs.gov/download/Mars/Viking/schiaparelli_enhanced.tif/full.jpg',\n",
      "  'title': 'Schiaparelli Hemisphere Enhanced'}]\n",
      "[{'img_url': 'http://astropedia.astrogeology.usgs.gov/download/Mars/Viking/cerberus_enhanced.tif/full.jpg',\n",
      "  'title': 'Cerberus Hemisphere Enhanced'},\n",
      " {'img_url': 'http://astropedia.astrogeology.usgs.gov/download/Mars/Viking/schiaparelli_enhanced.tif/full.jpg',\n",
      "  'title': 'Schiaparelli Hemisphere Enhanced'},\n",
      " {'img_url': 'http://astropedia.astrogeology.usgs.gov/download/Mars/Viking/syrtis_major_enhanced.tif/full.jpg',\n",
      "  'title': 'Syrtis Major Hemisphere Enhanced'}]\n",
      "[{'img_url': 'http://astropedia.astrogeology.usgs.gov/download/Mars/Viking/cerberus_enhanced.tif/full.jpg',\n",
      "  'title': 'Cerberus Hemisphere Enhanced'},\n",
      " {'img_url': 'http://astropedia.astrogeology.usgs.gov/download/Mars/Viking/schiaparelli_enhanced.tif/full.jpg',\n",
      "  'title': 'Schiaparelli Hemisphere Enhanced'},\n",
      " {'img_url': 'http://astropedia.astrogeology.usgs.gov/download/Mars/Viking/syrtis_major_enhanced.tif/full.jpg',\n",
      "  'title': 'Syrtis Major Hemisphere Enhanced'},\n",
      " {'img_url': 'http://astropedia.astrogeology.usgs.gov/download/Mars/Viking/valles_marineris_enhanced.tif/full.jpg',\n",
      "  'title': 'Valles Marineris Hemisphere Enhanced'}]\n"
     ]
    }
   ],
   "source": [
    "hemisphere_image_urls = []\n",
    "\n",
    "for hemi in hemi_strings:\n",
    "    hemi_dict = {}\n",
    "    \n",
    "    browser.click_link_by_partial_text(hemi)\n",
    "    \n",
    "    hemi_dict[\"img_url\"] = browser.find_by_text('Sample')['href']\n",
    "    \n",
    "    hemi_dict[\"title\"] = hemi\n",
    "    \n",
    "    hemisphere_image_urls.append(hemi_dict)\n",
    "    \n",
    "    pprint(hemisphere_image_urls)\n",
    "    \n",
    "    browser.back()"
   ]
  },
  {
   "cell_type": "code",
   "execution_count": null,
   "metadata": {},
   "outputs": [],
   "source": []
  }
 ],
 "metadata": {
  "kernelspec": {
   "display_name": "Python 3",
   "language": "python",
   "name": "python3"
  },
  "language_info": {
   "codemirror_mode": {
    "name": "ipython",
    "version": 3
   },
   "file_extension": ".py",
   "mimetype": "text/x-python",
   "name": "python",
   "nbconvert_exporter": "python",
   "pygments_lexer": "ipython3",
   "version": "3.7.3"
  }
 },
 "nbformat": 4,
 "nbformat_minor": 2
}
